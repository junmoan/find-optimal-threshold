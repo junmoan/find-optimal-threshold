{
  "nbformat": 4,
  "nbformat_minor": 0,
  "metadata": {
    "colab": {
      "name": "find_optimal_threshold.ipynb",
      "provenance": [],
      "collapsed_sections": []
    },
    "kernelspec": {
      "name": "python3",
      "display_name": "Python 3"
    },
    "language_info": {
      "name": "python"
    }
  },
  "cells": [
    {
      "cell_type": "code",
      "execution_count": 286,
      "metadata": {
        "id": "B5llyrTnlBuO"
      },
      "outputs": [],
      "source": [
        "from numpy import sqrt\n",
        "from numpy import argmax\n",
        "from numpy import arange\n",
        "from sklearn.datasets import make_classification\n",
        "from sklearn.linear_model import LogisticRegression\n",
        "from sklearn.model_selection import train_test_split\n",
        "from sklearn.metrics import roc_curve\n",
        "from sklearn.metrics import precision_recall_curve\n",
        "from sklearn.metrics import f1_score\n",
        "from matplotlib import pyplot"
      ]
    },
    {
      "cell_type": "code",
      "source": [
        "# generate dataset\n",
        "X, y = make_classification(n_samples=10000, n_features=2, n_redundant=0, n_clusters_per_class=1, weights=[0.99], flip_y=0, random_state=7)"
      ],
      "metadata": {
        "id": "xgLImlE-la2T"
      },
      "execution_count": 287,
      "outputs": []
    },
    {
      "cell_type": "code",
      "source": [
        "print(X.shape, y.shape)"
      ],
      "metadata": {
        "colab": {
          "base_uri": "https://localhost:8080/"
        },
        "id": "-SB-tc_tlo1K",
        "outputId": "e8d8aac0-a8af-40d9-fb00-c0325a73015e"
      },
      "execution_count": 288,
      "outputs": [
        {
          "output_type": "stream",
          "name": "stdout",
          "text": [
            "(10000, 2) (10000,)\n"
          ]
        }
      ]
    },
    {
      "cell_type": "code",
      "source": [
        "X"
      ],
      "metadata": {
        "colab": {
          "base_uri": "https://localhost:8080/"
        },
        "id": "ZPDB9k9nlhVM",
        "outputId": "33f904a9-8a1e-41ff-aca3-1a7434b8b288"
      },
      "execution_count": 289,
      "outputs": [
        {
          "output_type": "execute_result",
          "data": {
            "text/plain": [
              "array([[ 0.06460929, -0.31861808],\n",
              "       [ 0.6533712 , -0.75338389],\n",
              "       [ 2.12540511, -0.97994492],\n",
              "       ...,\n",
              "       [ 0.81467908, -0.27418789],\n",
              "       [ 1.87798679, -1.14153745],\n",
              "       [ 0.76252839, -0.06973695]])"
            ]
          },
          "metadata": {},
          "execution_count": 289
        }
      ]
    },
    {
      "cell_type": "code",
      "source": [
        "y"
      ],
      "metadata": {
        "colab": {
          "base_uri": "https://localhost:8080/"
        },
        "id": "6zNcZG2_lmH2",
        "outputId": "e2eeb8f0-8ae1-4bcd-9573-22aff2439cb7"
      },
      "execution_count": 290,
      "outputs": [
        {
          "output_type": "execute_result",
          "data": {
            "text/plain": [
              "array([0, 0, 0, ..., 0, 0, 0])"
            ]
          },
          "metadata": {},
          "execution_count": 290
        }
      ]
    },
    {
      "cell_type": "code",
      "source": [
        "# split into train/test sets\n",
        "trainX, testX, trainy, testy = train_test_split(X, y, test_size=0.4, random_state=7, stratify=y)"
      ],
      "metadata": {
        "id": "E8HeFHkTlr4g"
      },
      "execution_count": 291,
      "outputs": []
    },
    {
      "cell_type": "code",
      "source": [
        "print(trainX.shape, testX.shape, trainy.shape, testy.shape)"
      ],
      "metadata": {
        "colab": {
          "base_uri": "https://localhost:8080/"
        },
        "id": "MuBsvNBvmeG2",
        "outputId": "e713386c-ff90-49fb-fe31-c907e50b78fa"
      },
      "execution_count": 292,
      "outputs": [
        {
          "output_type": "stream",
          "name": "stdout",
          "text": [
            "(6000, 2) (4000, 2) (6000,) (4000,)\n"
          ]
        }
      ]
    },
    {
      "cell_type": "code",
      "source": [
        "# fit a model\n",
        "model = LogisticRegression(solver='lbfgs')\n",
        "model.fit(trainX, trainy)"
      ],
      "metadata": {
        "colab": {
          "base_uri": "https://localhost:8080/"
        },
        "id": "YgFb3Nqjl1xt",
        "outputId": "88e7b597-4662-4fcb-ef80-bc3423485872"
      },
      "execution_count": 293,
      "outputs": [
        {
          "output_type": "execute_result",
          "data": {
            "text/plain": [
              "LogisticRegression()"
            ]
          },
          "metadata": {},
          "execution_count": 293
        }
      ]
    },
    {
      "cell_type": "code",
      "source": [
        "# predict probabilities\n",
        "yhat = model.predict_proba(testX)"
      ],
      "metadata": {
        "id": "HCYm82Rll6fU"
      },
      "execution_count": 294,
      "outputs": []
    },
    {
      "cell_type": "code",
      "source": [
        "print(yhat.shape)"
      ],
      "metadata": {
        "colab": {
          "base_uri": "https://localhost:8080/"
        },
        "id": "SjQFoY5jmBCA",
        "outputId": "3f8d5bf9-08e2-49e7-88f6-65301ca651ad"
      },
      "execution_count": 295,
      "outputs": [
        {
          "output_type": "stream",
          "name": "stdout",
          "text": [
            "(4000, 2)\n"
          ]
        }
      ]
    },
    {
      "cell_type": "code",
      "source": [
        "yhat"
      ],
      "metadata": {
        "colab": {
          "base_uri": "https://localhost:8080/"
        },
        "id": "1ObOo-IKl9mi",
        "outputId": "e04af8e7-5292-400c-8fd2-4c11ffc262df"
      },
      "execution_count": 296,
      "outputs": [
        {
          "output_type": "execute_result",
          "data": {
            "text/plain": [
              "array([[9.99919615e-01, 8.03854641e-05],\n",
              "       [9.99329146e-01, 6.70853678e-04],\n",
              "       [9.99905143e-01, 9.48570646e-05],\n",
              "       ...,\n",
              "       [2.56403925e-01, 7.43596075e-01],\n",
              "       [9.99997267e-01, 2.73344832e-06],\n",
              "       [9.99955150e-01, 4.48500415e-05]])"
            ]
          },
          "metadata": {},
          "execution_count": 296
        }
      ]
    },
    {
      "cell_type": "code",
      "source": [
        "# keep probabilities for the positive outcome only\n",
        "yhat = yhat[:, 1]"
      ],
      "metadata": {
        "id": "OA6_RIrWmxpm"
      },
      "execution_count": 297,
      "outputs": []
    },
    {
      "cell_type": "code",
      "source": [
        "print(yhat.shape)"
      ],
      "metadata": {
        "colab": {
          "base_uri": "https://localhost:8080/"
        },
        "id": "vCGQX9mRmz8b",
        "outputId": "c7ac9d27-580c-44cb-b437-11a2e5d2b68d"
      },
      "execution_count": 298,
      "outputs": [
        {
          "output_type": "stream",
          "name": "stdout",
          "text": [
            "(4000,)\n"
          ]
        }
      ]
    },
    {
      "cell_type": "code",
      "source": [
        "yhat"
      ],
      "metadata": {
        "colab": {
          "base_uri": "https://localhost:8080/"
        },
        "id": "JGIE9d1Pm3aH",
        "outputId": "6c7424b9-3baa-4992-d4fd-4aff2c501792"
      },
      "execution_count": 299,
      "outputs": [
        {
          "output_type": "execute_result",
          "data": {
            "text/plain": [
              "array([8.03854641e-05, 6.70853678e-04, 9.48570646e-05, ...,\n",
              "       7.43596075e-01, 2.73344832e-06, 4.48500415e-05])"
            ]
          },
          "metadata": {},
          "execution_count": 299
        }
      ]
    },
    {
      "cell_type": "markdown",
      "source": [
        "##Optimal Threshold for ROC Curve"
      ],
      "metadata": {
        "id": "ITg-oT3ftAUX"
      }
    },
    {
      "cell_type": "code",
      "source": [
        "# calculate roc curves\n",
        "fpr, tpr, thresholds = roc_curve(testy, yhat)"
      ],
      "metadata": {
        "id": "QTreqs-2mGdP"
      },
      "execution_count": 300,
      "outputs": []
    },
    {
      "cell_type": "code",
      "source": [
        "print(fpr.shape, tpr.shape, thresholds.shape)"
      ],
      "metadata": {
        "colab": {
          "base_uri": "https://localhost:8080/"
        },
        "id": "XE9CdWT6rSG1",
        "outputId": "16c9a016-fb37-4af5-d51d-3b7a6394c46b"
      },
      "execution_count": 301,
      "outputs": [
        {
          "output_type": "stream",
          "name": "stdout",
          "text": [
            "(42,) (42,) (42,)\n"
          ]
        }
      ]
    },
    {
      "cell_type": "code",
      "source": [
        "fpr"
      ],
      "metadata": {
        "colab": {
          "base_uri": "https://localhost:8080/"
        },
        "id": "9ZqGQTkgrWrt",
        "outputId": "e7fb72da-e50d-402f-8398-c72381c940a7"
      },
      "execution_count": 302,
      "outputs": [
        {
          "output_type": "execute_result",
          "data": {
            "text/plain": [
              "array([0.00000000e+00, 0.00000000e+00, 0.00000000e+00, 5.05050505e-04,\n",
              "       5.05050505e-04, 7.57575758e-04, 7.57575758e-04, 1.51515152e-03,\n",
              "       1.51515152e-03, 1.76767677e-03, 1.76767677e-03, 3.78787879e-03,\n",
              "       3.78787879e-03, 4.79797980e-03, 4.79797980e-03, 5.05050505e-03,\n",
              "       5.05050505e-03, 7.82828283e-03, 7.82828283e-03, 8.58585859e-03,\n",
              "       8.58585859e-03, 8.83838384e-03, 8.83838384e-03, 9.59595960e-03,\n",
              "       9.59595960e-03, 1.01010101e-02, 1.01010101e-02, 1.28787879e-02,\n",
              "       1.28787879e-02, 1.36363636e-02, 1.36363636e-02, 2.12121212e-02,\n",
              "       2.12121212e-02, 2.14646465e-02, 2.14646465e-02, 2.72727273e-02,\n",
              "       2.72727273e-02, 4.41919192e-02, 4.41919192e-02, 1.84595960e-01,\n",
              "       1.84595960e-01, 1.00000000e+00])"
            ]
          },
          "metadata": {},
          "execution_count": 302
        }
      ]
    },
    {
      "cell_type": "code",
      "source": [
        "tpr"
      ],
      "metadata": {
        "colab": {
          "base_uri": "https://localhost:8080/"
        },
        "id": "sSEIwNkKroCZ",
        "outputId": "d0a14c16-21fb-4f54-ec3c-cd05ebd1f6ec"
      },
      "execution_count": 303,
      "outputs": [
        {
          "output_type": "execute_result",
          "data": {
            "text/plain": [
              "array([0.   , 0.025, 0.3  , 0.3  , 0.325, 0.325, 0.5  , 0.5  , 0.525,\n",
              "       0.525, 0.6  , 0.6  , 0.65 , 0.65 , 0.675, 0.675, 0.7  , 0.7  ,\n",
              "       0.725, 0.725, 0.75 , 0.75 , 0.775, 0.775, 0.8  , 0.8  , 0.825,\n",
              "       0.825, 0.85 , 0.85 , 0.875, 0.875, 0.9  , 0.9  , 0.925, 0.925,\n",
              "       0.95 , 0.95 , 0.975, 0.975, 1.   , 1.   ])"
            ]
          },
          "metadata": {},
          "execution_count": 303
        }
      ]
    },
    {
      "cell_type": "code",
      "source": [
        "thresholds"
      ],
      "metadata": {
        "colab": {
          "base_uri": "https://localhost:8080/"
        },
        "id": "zXnyw5FzroNn",
        "outputId": "9521325d-1f24-4741-b363-b1e0554e5c9f"
      },
      "execution_count": 304,
      "outputs": [
        {
          "output_type": "execute_result",
          "data": {
            "text/plain": [
              "array([1.99567925e+00, 9.95679249e-01, 7.51358353e-01, 7.08706061e-01,\n",
              "       6.91679494e-01, 6.87684110e-01, 5.76349851e-01, 4.59413225e-01,\n",
              "       4.18695015e-01, 3.96649007e-01, 3.85114008e-01, 2.61709127e-01,\n",
              "       2.54792074e-01, 1.98654471e-01, 1.92910691e-01, 1.92132639e-01,\n",
              "       1.83417348e-01, 1.28812397e-01, 1.24912266e-01, 1.18497768e-01,\n",
              "       1.16301093e-01, 1.16201008e-01, 1.15362059e-01, 1.09736401e-01,\n",
              "       1.07712666e-01, 9.96327699e-02, 9.78306840e-02, 7.66201247e-02,\n",
              "       7.52885770e-02, 6.78519133e-02, 6.76474559e-02, 3.69850684e-02,\n",
              "       3.53173986e-02, 3.51630135e-02, 3.44466609e-02, 2.50433593e-02,\n",
              "       2.43354282e-02, 1.20527941e-02, 1.18942373e-02, 7.84798024e-04,\n",
              "       7.84759396e-04, 6.72946645e-11])"
            ]
          },
          "metadata": {},
          "execution_count": 304
        }
      ]
    },
    {
      "cell_type": "code",
      "source": [
        "# calculate the g-mean for each threshold\n",
        "gmeans = sqrt(tpr * (1-fpr))"
      ],
      "metadata": {
        "id": "il3Cv20CmSnz"
      },
      "execution_count": 305,
      "outputs": []
    },
    {
      "cell_type": "code",
      "source": [
        "gmeans"
      ],
      "metadata": {
        "colab": {
          "base_uri": "https://localhost:8080/"
        },
        "id": "Oa0fto8LrO40",
        "outputId": "6efee651-ec38-4836-bcc0-b104d07c7923"
      },
      "execution_count": 306,
      "outputs": [
        {
          "output_type": "execute_result",
          "data": {
            "text/plain": [
              "array([0.        , 0.15811388, 0.54772256, 0.54758423, 0.56994373,\n",
              "       0.56987173, 0.70683889, 0.70657089, 0.72401971, 0.72392815,\n",
              "       0.77391175, 0.77312824, 0.80469738, 0.80428932, 0.8196105 ,\n",
              "       0.8195065 , 0.83454457, 0.83337879, 0.84813   , 0.84780614,\n",
              "       0.8622996 , 0.86218978, 0.87644181, 0.8761068 , 0.8901254 ,\n",
              "       0.88989842, 0.90369611, 0.90242728, 0.91599838, 0.91564682,\n",
              "       0.92901463, 0.92544011, 0.93856757, 0.93844649, 0.95139119,\n",
              "       0.94856351, 0.96129647, 0.95289962, 0.96535635, 0.89163835,\n",
              "       0.90299725, 0.        ])"
            ]
          },
          "metadata": {},
          "execution_count": 306
        }
      ]
    },
    {
      "cell_type": "code",
      "source": [
        "# locate the index of the largest g-mean\n",
        "ix = argmax(gmeans)"
      ],
      "metadata": {
        "id": "ZKTdjTFJrJ79"
      },
      "execution_count": 307,
      "outputs": []
    },
    {
      "cell_type": "code",
      "source": [
        "ix"
      ],
      "metadata": {
        "colab": {
          "base_uri": "https://localhost:8080/"
        },
        "id": "XMIPlMwBrNMj",
        "outputId": "2bb41506-e24c-4a3a-aa89-3e7433f9e09b"
      },
      "execution_count": 308,
      "outputs": [
        {
          "output_type": "execute_result",
          "data": {
            "text/plain": [
              "38"
            ]
          },
          "metadata": {},
          "execution_count": 308
        }
      ]
    },
    {
      "cell_type": "code",
      "source": [
        "print('Best Threshold=%f, G-Mean=%.3f' % (thresholds[ix], gmeans[ix]))"
      ],
      "metadata": {
        "colab": {
          "base_uri": "https://localhost:8080/"
        },
        "id": "11jrucPQrvPH",
        "outputId": "dcee0aed-6e2e-4a94-b36d-d177f2e55a42"
      },
      "execution_count": 309,
      "outputs": [
        {
          "output_type": "stream",
          "name": "stdout",
          "text": [
            "Best Threshold=0.011894, G-Mean=0.965\n"
          ]
        }
      ]
    },
    {
      "cell_type": "code",
      "source": [
        "# plot the roc curve for the model\n",
        "pyplot.figure(figsize=(10,8))\n",
        "pyplot.plot([0,1], [0,1], linestyle='--', label='No Skill')\n",
        "pyplot.plot(fpr, tpr, marker='.', label='Logistic')\n",
        "pyplot.scatter(fpr[ix], tpr[ix], marker='o', color='black', label='Best')\n",
        "# axis labels\n",
        "pyplot.xlabel('False Positive Rate')\n",
        "pyplot.ylabel('True Positive Rate')\n",
        "pyplot.legend()\n",
        "# show the plot\n",
        "pyplot.show()"
      ],
      "metadata": {
        "colab": {
          "base_uri": "https://localhost:8080/",
          "height": 497
        },
        "id": "Pl0P7T-ar6dI",
        "outputId": "88f4b5b3-4980-4607-c31f-59a72e85e9a5"
      },
      "execution_count": 310,
      "outputs": [
        {
          "output_type": "display_data",
          "data": {
            "text/plain": [
              "<Figure size 720x576 with 1 Axes>"
            ],
            "image/png": "[encoded data removed]"
          },
          "metadata": {
            "needs_background": "light"
          }
        }
      ]
    },
    {
      "cell_type": "code",
      "source": [
        "# get the best threshold\n",
        "J = tpr - fpr\n",
        "ix = argmax(J)\n",
        "best_thresh = thresholds[ix]\n",
        "print('Best Threshold=%f' % (best_thresh))"
      ],
      "metadata": {
        "colab": {
          "base_uri": "https://localhost:8080/"
        },
        "id": "VznoQk_4sNdM",
        "outputId": "a7d64fd1-3b11-4190-b5f4-a48bf45ffceb"
      },
      "execution_count": 311,
      "outputs": [
        {
          "output_type": "stream",
          "name": "stdout",
          "text": [
            "Best Threshold=0.011894\n"
          ]
        }
      ]
    },
    {
      "cell_type": "markdown",
      "source": [
        "##Optimal Threshold for Precision-Recall Curve"
      ],
      "metadata": {
        "id": "XPeww245tRGk"
      }
    },
    {
      "cell_type": "code",
      "source": [
        "# calculate pr-curve\n",
        "precision, recall, thresholds = precision_recall_curve(testy, yhat)"
      ],
      "metadata": {
        "id": "aR2OsW5JtOSi"
      },
      "execution_count": 312,
      "outputs": []
    },
    {
      "cell_type": "code",
      "source": [
        "# convert to f score\n",
        "fscore = (2 * precision * recall) / (precision + recall)"
      ],
      "metadata": {
        "id": "WPDq9WxpvP27"
      },
      "execution_count": 313,
      "outputs": []
    },
    {
      "cell_type": "code",
      "source": [
        "print(fscore.shape)"
      ],
      "metadata": {
        "colab": {
          "base_uri": "https://localhost:8080/"
        },
        "id": "uVKeQwVjvbr9",
        "outputId": "6f70600b-0bd4-4ee2-979a-ce3884447296"
      },
      "execution_count": 314,
      "outputs": [
        {
          "output_type": "stream",
          "name": "stdout",
          "text": [
            "(772,)\n"
          ]
        }
      ]
    },
    {
      "cell_type": "code",
      "source": [
        "fscore"
      ],
      "metadata": {
        "colab": {
          "base_uri": "https://localhost:8080/"
        },
        "id": "E_f-qXMwvRLr",
        "outputId": "859a5a40-4df7-40a8-ea72-56bf41315dfe"
      },
      "execution_count": 315,
      "outputs": [
        {
          "output_type": "execute_result",
          "data": {
            "text/plain": [
              "array([0.09864365, 0.0962963 , 0.09641533, 0.09653465, 0.09665428,\n",
              "       0.09677419, 0.09689441, 0.09701493, 0.09713574, 0.09725686,\n",
              "       0.09737828, 0.0975    , 0.09762203, 0.09774436, 0.097867  ,\n",
              "       0.09798995, 0.09811321, 0.09823678, 0.09836066, 0.09848485,\n",
              "       0.09860936, 0.09873418, 0.09885932, 0.09898477, 0.09911055,\n",
              "       0.09923664, 0.09936306, 0.0994898 , 0.09961686, 0.09974425,\n",
              "       0.09987196, 0.1       , 0.10012837, 0.10025707, 0.1003861 ,\n",
              "       0.10051546, 0.10064516, 0.10077519, 0.10090556, 0.10103627,\n",
              "       0.10116732, 0.1012987 , 0.10143043, 0.1015625 , 0.10169492,\n",
              "       0.10182768, 0.10196078, 0.10209424, 0.10222805, 0.1023622 ,\n",
              "       0.10249671, 0.10263158, 0.1027668 , 0.10290237, 0.10303831,\n",
              "       0.1031746 , 0.10331126, 0.10344828, 0.10358566, 0.1037234 ,\n",
              "       0.10386152, 0.104     , 0.10413885, 0.10427807, 0.10441767,\n",
              "       0.10455764, 0.10469799, 0.10483871, 0.10497981, 0.10512129,\n",
              "       0.10526316, 0.10540541, 0.10554804, 0.10569106, 0.10583446,\n",
              "       0.10597826, 0.10612245, 0.10626703, 0.10641201, 0.10655738,\n",
              "       0.10670315, 0.10684932, 0.10699588, 0.10714286, 0.10729023,\n",
              "       0.10743802, 0.10758621, 0.10773481, 0.10788382, 0.10803324,\n",
              "       0.10818308, 0.10833333, 0.10848401, 0.1086351 , 0.10878661,\n",
              "       0.10893855, 0.10909091, 0.1092437 , 0.10939691, 0.10955056,\n",
              "       0.10970464, 0.10985915, 0.1100141 , 0.11016949, 0.11032532,\n",
              "       0.11048159, 0.1106383 , 0.11079545, 0.11095306, 0.11111111,\n",
              "       0.11126961, 0.11142857, 0.11158798, 0.11174785, 0.11190818,\n",
              "       0.11206897, 0.11223022, 0.11239193, 0.11255411, 0.11271676,\n",
              "       0.11287988, 0.11304348, 0.11320755, 0.11337209, 0.11353712,\n",
              "       0.11370262, 0.11386861, 0.11403509, 0.11420205, 0.1143695 ,\n",
              "       0.11453744, 0.11470588, 0.11487482, 0.11504425, 0.11521418,\n",
              "       0.11538462, 0.11555556, 0.115727  , 0.11589896, 0.11607143,\n",
              "       0.11624441, 0.11641791, 0.11659193, 0.11676647, 0.11694153,\n",
              "       0.11711712, 0.11729323, 0.11746988, 0.11764706, 0.11782477,\n",
              "       0.11800303, 0.11818182, 0.11836115, 0.11854103, 0.11872146,\n",
              "       0.11890244, 0.11908397, 0.11926606, 0.1194487 , 0.1196319 ,\n",
              "       0.11981567, 0.12      , 0.1201849 , 0.12037037, 0.12055641,\n",
              "       0.12074303, 0.12093023, 0.12111801, 0.12130638, 0.12149533,\n",
              "       0.12168487, 0.121875  , 0.12206573, 0.12225705, 0.12244898,\n",
              "       0.12264151, 0.12283465, 0.12302839, 0.12322275, 0.12341772,\n",
              "       0.12361331, 0.12380952, 0.12400636, 0.12420382, 0.12440191,\n",
              "       0.12460064, 0.1248    , 0.125     , 0.12520064, 0.12540193,\n",
              "       0.12560386, 0.12580645, 0.12600969, 0.12621359, 0.12641815,\n",
              "       0.12662338, 0.12682927, 0.12703583, 0.12724307, 0.12745098,\n",
              "       0.12765957, 0.12786885, 0.12807882, 0.12828947, 0.12850082,\n",
              "       0.12871287, 0.12892562, 0.12913907, 0.12935323, 0.12956811,\n",
              "       0.12978369, 0.13      , 0.13021703, 0.13043478, 0.13065327,\n",
              "       0.13087248, 0.13109244, 0.13131313, 0.13153457, 0.13175676,\n",
              "       0.1319797 , 0.13220339, 0.13242784, 0.13265306, 0.13287905,\n",
              "       0.1331058 , 0.13333333, 0.13356164, 0.13379074, 0.13402062,\n",
              "       0.13425129, 0.13448276, 0.13471503, 0.1349481 , 0.13518198,\n",
              "       0.13541667, 0.13565217, 0.1358885 , 0.13612565, 0.13636364,\n",
              "       0.13660245, 0.13684211, 0.1370826 , 0.13732394, 0.13756614,\n",
              "       0.13780919, 0.1380531 , 0.13829787, 0.13854352, 0.13879004,\n",
              "       0.13903743, 0.13928571, 0.13953488, 0.13978495, 0.14003591,\n",
              "       0.14028777, 0.14054054, 0.14079422, 0.14104882, 0.14130435,\n",
              "       0.1415608 , 0.14181818, 0.1420765 , 0.14233577, 0.14259598,\n",
              "       0.14285714, 0.14311927, 0.14338235, 0.14364641, 0.14391144,\n",
              "       0.14417745, 0.14444444, 0.14471243, 0.14498141, 0.1452514 ,\n",
              "       0.14552239, 0.14579439, 0.14606742, 0.14634146, 0.14661654,\n",
              "       0.14689266, 0.14716981, 0.14744802, 0.14772727, 0.14800759,\n",
              "       0.14828897, 0.14857143, 0.14885496, 0.14913958, 0.14942529,\n",
              "       0.14971209, 0.15      , 0.15028902, 0.15057915, 0.15087041,\n",
              "       0.15116279, 0.15145631, 0.15175097, 0.15204678, 0.15234375,\n",
              "       0.15264188, 0.15294118, 0.15324165, 0.15354331, 0.15384615,\n",
              "       0.1541502 , 0.15445545, 0.1547619 , 0.15506958, 0.15537849,\n",
              "       0.15568862, 0.156     , 0.15631263, 0.15662651, 0.15694165,\n",
              "       0.15725806, 0.15757576, 0.15789474, 0.15821501, 0.15853659,\n",
              "       0.15885947, 0.15918367, 0.1595092 , 0.15983607, 0.16016427,\n",
              "       0.16049383, 0.16082474, 0.16115702, 0.16149068, 0.16182573,\n",
              "       0.16216216, 0.1625    , 0.16283925, 0.16317992, 0.16352201,\n",
              "       0.16386555, 0.16421053, 0.16455696, 0.16490486, 0.16525424,\n",
              "       0.1656051 , 0.16595745, 0.1663113 , 0.16666667, 0.16702355,\n",
              "       0.16738197, 0.16774194, 0.16810345, 0.16846652, 0.16883117,\n",
              "       0.1691974 , 0.16956522, 0.16993464, 0.17030568, 0.17067834,\n",
              "       0.17105263, 0.17142857, 0.17180617, 0.17218543, 0.17256637,\n",
              "       0.172949  , 0.17333333, 0.17371938, 0.17410714, 0.17449664,\n",
              "       0.17488789, 0.1752809 , 0.17567568, 0.17607223, 0.17647059,\n",
              "       0.17687075, 0.17727273, 0.17767654, 0.17808219, 0.1784897 ,\n",
              "       0.17889908, 0.17931034, 0.1797235 , 0.18013857, 0.18055556,\n",
              "       0.18097448, 0.18139535, 0.18181818, 0.18224299, 0.18266979,\n",
              "       0.18309859, 0.18352941, 0.18396226, 0.18439716, 0.18483412,\n",
              "       0.18527316, 0.18571429, 0.18615752, 0.18660287, 0.18705036,\n",
              "       0.1875    , 0.18795181, 0.1884058 , 0.18886199, 0.18932039,\n",
              "       0.18978102, 0.1902439 , 0.19070905, 0.19117647, 0.19164619,\n",
              "       0.19211823, 0.19259259, 0.19306931, 0.19354839, 0.19402985,\n",
              "       0.19451372, 0.195     , 0.19548872, 0.1959799 , 0.19647355,\n",
              "       0.1969697 , 0.19746835, 0.19796954, 0.19847328, 0.19897959,\n",
              "       0.19948849, 0.2       , 0.20051414, 0.20103093, 0.20155039,\n",
              "       0.20207254, 0.2025974 , 0.203125  , 0.20365535, 0.20418848,\n",
              "       0.20472441, 0.20526316, 0.20580475, 0.20634921, 0.20689655,\n",
              "       0.20744681, 0.208     , 0.20855615, 0.20911528, 0.20967742,\n",
              "       0.21024259, 0.21081081, 0.21138211, 0.21195652, 0.21253406,\n",
              "       0.21311475, 0.21369863, 0.21428571, 0.21487603, 0.21546961,\n",
              "       0.21606648, 0.21666667, 0.21727019, 0.21787709, 0.21848739,\n",
              "       0.21910112, 0.21971831, 0.22033898, 0.22096317, 0.22159091,\n",
              "       0.22222222, 0.22285714, 0.2234957 , 0.22413793, 0.22478386,\n",
              "       0.22543353, 0.22608696, 0.22674419, 0.22740525, 0.22807018,\n",
              "       0.228739  , 0.22941176, 0.2300885 , 0.23076923, 0.23145401,\n",
              "       0.23214286, 0.23283582, 0.23353293, 0.23423423, 0.23493976,\n",
              "       0.23564955, 0.23636364, 0.23708207, 0.23780488, 0.23853211,\n",
              "       0.2392638 , 0.24      , 0.24074074, 0.24148607, 0.24223602,\n",
              "       0.24299065, 0.24375   , 0.24451411, 0.24528302, 0.24605678,\n",
              "       0.24683544, 0.24761905, 0.24840764, 0.24920128, 0.25      ,\n",
              "       0.25080386, 0.2516129 , 0.25242718, 0.25324675, 0.25407166,\n",
              "       0.25490196, 0.2557377 , 0.25657895, 0.25742574, 0.25827815,\n",
              "       0.25913621, 0.26      , 0.26086957, 0.26174497, 0.26262626,\n",
              "       0.26351351, 0.26440678, 0.26530612, 0.2662116 , 0.26712329,\n",
              "       0.26804124, 0.26896552, 0.26989619, 0.27083333, 0.271777  ,\n",
              "       0.27272727, 0.27368421, 0.27464789, 0.27561837, 0.27659574,\n",
              "       0.27758007, 0.27857143, 0.27956989, 0.28057554, 0.28158845,\n",
              "       0.2826087 , 0.28363636, 0.28467153, 0.28571429, 0.28676471,\n",
              "       0.28782288, 0.28888889, 0.28996283, 0.29104478, 0.29213483,\n",
              "       0.29323308, 0.29433962, 0.29545455, 0.29657795, 0.29770992,\n",
              "       0.29885057, 0.3       , 0.3011583 , 0.30232558, 0.30350195,\n",
              "       0.3046875 , 0.30588235, 0.30708661, 0.30039526, 0.3015873 ,\n",
              "       0.30278884, 0.304     , 0.30522088, 0.30645161, 0.30769231,\n",
              "       0.30894309, 0.31020408, 0.31147541, 0.3127572 , 0.31404959,\n",
              "       0.3153527 , 0.31666667, 0.31799163, 0.31932773, 0.32067511,\n",
              "       0.3220339 , 0.32340426, 0.32478632, 0.32618026, 0.32758621,\n",
              "       0.32900433, 0.33043478, 0.33187773, 0.33333333, 0.33480176,\n",
              "       0.33628319, 0.33777778, 0.33928571, 0.34080717, 0.34234234,\n",
              "       0.3438914 , 0.34545455, 0.34703196, 0.34862385, 0.35023041,\n",
              "       0.35185185, 0.35348837, 0.35514019, 0.35680751, 0.35849057,\n",
              "       0.36018957, 0.36190476, 0.36363636, 0.36538462, 0.36714976,\n",
              "       0.36893204, 0.37073171, 0.37254902, 0.37438424, 0.37623762,\n",
              "       0.37810945, 0.38      , 0.38190955, 0.38383838, 0.3857868 ,\n",
              "       0.3877551 , 0.38974359, 0.39175258, 0.39378238, 0.39583333,\n",
              "       0.39790576, 0.4       , 0.4021164 , 0.40425532, 0.40641711,\n",
              "       0.40860215, 0.4       , 0.40217391, 0.40437158, 0.40659341,\n",
              "       0.40883978, 0.41111111, 0.41340782, 0.41573034, 0.4180791 ,\n",
              "       0.42045455, 0.42285714, 0.42528736, 0.42774566, 0.43023256,\n",
              "       0.43274854, 0.43529412, 0.43786982, 0.44047619, 0.44311377,\n",
              "       0.44578313, 0.44848485, 0.45121951, 0.45398773, 0.45679012,\n",
              "       0.44720497, 0.45      , 0.44025157, 0.44303797, 0.44585987,\n",
              "       0.44871795, 0.4516129 , 0.45454545, 0.45751634, 0.46052632,\n",
              "       0.46357616, 0.46666667, 0.46979866, 0.47297297, 0.47619048,\n",
              "       0.47945205, 0.48275862, 0.48611111, 0.48951049, 0.49295775,\n",
              "       0.4964539 , 0.5       , 0.50359712, 0.50724638, 0.51094891,\n",
              "       0.51470588, 0.51851852, 0.52238806, 0.52631579, 0.53030303,\n",
              "       0.53435115, 0.53846154, 0.54263566, 0.53125   , 0.53543307,\n",
              "       0.53968254, 0.544     , 0.53225806, 0.53658537, 0.54098361,\n",
              "       0.54545455, 0.55      , 0.55462185, 0.55932203, 0.56410256,\n",
              "       0.56896552, 0.57391304, 0.57894737, 0.5840708 , 0.57142857,\n",
              "       0.57657658, 0.58181818, 0.56880734, 0.57407407, 0.57943925,\n",
              "       0.58490566, 0.57142857, 0.57692308, 0.5631068 , 0.56862745,\n",
              "       0.57425743, 0.58      , 0.56565657, 0.57142857, 0.57731959,\n",
              "       0.58333333, 0.58947368, 0.59574468, 0.60215054, 0.60869565,\n",
              "       0.61538462, 0.62222222, 0.62921348, 0.63636364, 0.62068966,\n",
              "       0.62790698, 0.61176471, 0.61904762, 0.62650602, 0.63414634,\n",
              "       0.64197531, 0.625     , 0.60759494, 0.61538462, 0.62337662,\n",
              "       0.63157895, 0.64      , 0.64864865, 0.65753425, 0.66666667,\n",
              "       0.67605634, 0.65714286, 0.63768116, 0.61764706, 0.62686567,\n",
              "       0.60606061, 0.61538462, 0.625     , 0.63492063, 0.61290323,\n",
              "       0.59016393, 0.56666667, 0.54237288, 0.51724138, 0.49122807,\n",
              "       0.46428571, 0.47272727, 0.44444444, 0.45283019, 0.46153846,\n",
              "       0.43137255, 0.4       , 0.36734694, 0.33333333, 0.29787234,\n",
              "       0.26086957, 0.22222222, 0.18181818, 0.13953488, 0.0952381 ,\n",
              "       0.04878049, 0.        ])"
            ]
          },
          "metadata": {},
          "execution_count": 315
        }
      ]
    },
    {
      "cell_type": "code",
      "source": [
        "# locate the index of the largest f score\n",
        "ix = argmax(fscore)\n",
        "print('Best Threshold=%f, F-Score=%.3f' % (thresholds[ix], fscore[ix]))"
      ],
      "metadata": {
        "colab": {
          "base_uri": "https://localhost:8080/"
        },
        "id": "--6oxI2GvWYI",
        "outputId": "e0a71fb6-d6bb-463d-c78c-ac6bb0e93009"
      },
      "execution_count": 316,
      "outputs": [
        {
          "output_type": "stream",
          "name": "stdout",
          "text": [
            "Best Threshold=0.385114, F-Score=0.676\n"
          ]
        }
      ]
    },
    {
      "cell_type": "code",
      "source": [
        "ix"
      ],
      "metadata": {
        "colab": {
          "base_uri": "https://localhost:8080/"
        },
        "id": "IXL_pceWvlzD",
        "outputId": "b813ad3f-a227-44bd-8d5e-6cfbd7588833"
      },
      "execution_count": 317,
      "outputs": [
        {
          "output_type": "execute_result",
          "data": {
            "text/plain": [
              "740"
            ]
          },
          "metadata": {},
          "execution_count": 317
        }
      ]
    },
    {
      "cell_type": "code",
      "source": [
        "# plot the roc curve for the model\n",
        "pyplot.figure(figsize=(10,8))\n",
        "no_skill = len(testy[testy==1]) / len(testy)\n",
        "pyplot.plot([0,1], [no_skill,no_skill], linestyle='--', label='No Skill')\n",
        "pyplot.plot(recall, precision, marker='.', label='Logistic')\n",
        "pyplot.scatter(recall[ix], precision[ix], marker='o', color='black', label='Best')\n",
        "# axis labels\n",
        "pyplot.xlabel('Recall')\n",
        "pyplot.ylabel('Precision')\n",
        "pyplot.legend()\n",
        "# show the plot\n",
        "pyplot.show()"
      ],
      "metadata": {
        "colab": {
          "base_uri": "https://localhost:8080/",
          "height": 497
        },
        "id": "AmbAj6bNuphp",
        "outputId": "ef890d31-b5d9-47c9-e05e-5fa5a74f97da"
      },
      "execution_count": 318,
      "outputs": [
        {
          "output_type": "display_data",
          "data": {
            "text/plain": [
              "<Figure size 720x576 with 1 Axes>"
            ],
            "image/png": "[encoded data removed]"
          },
          "metadata": {
            "needs_background": "light"
          }
        }
      ]
    },
    {
      "cell_type": "markdown",
      "source": [
        "##Default Threshold of 0.5"
      ],
      "metadata": {
        "id": "4RPeqWA5wA9o"
      }
    },
    {
      "cell_type": "code",
      "source": [
        "# predict labels\n",
        "yhat = model.predict(testX)"
      ],
      "metadata": {
        "id": "-6htOIACxmZU"
      },
      "execution_count": 319,
      "outputs": []
    },
    {
      "cell_type": "code",
      "source": [
        "print(yhat.shape)"
      ],
      "metadata": {
        "colab": {
          "base_uri": "https://localhost:8080/"
        },
        "id": "mGuDxPesyMUk",
        "outputId": "51385a99-5c46-4a0b-ed73-32841422c971"
      },
      "execution_count": 320,
      "outputs": [
        {
          "output_type": "stream",
          "name": "stdout",
          "text": [
            "(4000,)\n"
          ]
        }
      ]
    },
    {
      "cell_type": "code",
      "source": [
        "yhat"
      ],
      "metadata": {
        "colab": {
          "base_uri": "https://localhost:8080/"
        },
        "id": "jo5XuScDyJc9",
        "outputId": "6bcb3914-c7c5-48dd-9935-57ebb1605ea3"
      },
      "execution_count": 321,
      "outputs": [
        {
          "output_type": "execute_result",
          "data": {
            "text/plain": [
              "array([0, 0, 0, ..., 1, 0, 0])"
            ]
          },
          "metadata": {},
          "execution_count": 321
        }
      ]
    },
    {
      "cell_type": "code",
      "source": [
        "# evaluate the model\n",
        "score = f1_score(testy, yhat)\n",
        "print('F-Score: %.5f' % score)"
      ],
      "metadata": {
        "colab": {
          "base_uri": "https://localhost:8080/"
        },
        "id": "d59MUNHOvApg",
        "outputId": "e4995a0f-163b-49c3-d6d1-0a0fc25b8734"
      },
      "execution_count": 322,
      "outputs": [
        {
          "output_type": "stream",
          "name": "stdout",
          "text": [
            "F-Score: 0.61538\n"
          ]
        }
      ]
    },
    {
      "cell_type": "markdown",
      "source": [
        "##Optimal Threshold Tuning"
      ],
      "metadata": {
        "id": "hZGVSDuozXL9"
      }
    },
    {
      "cell_type": "code",
      "source": [
        "# predict probabilities\n",
        "yhat = model.predict_proba(testX)"
      ],
      "metadata": {
        "id": "7Dy74eHSy46c"
      },
      "execution_count": 323,
      "outputs": []
    },
    {
      "cell_type": "code",
      "source": [
        "yhat.shape"
      ],
      "metadata": {
        "colab": {
          "base_uri": "https://localhost:8080/"
        },
        "id": "nRs1ZjoozoGX",
        "outputId": "9735b4e6-1598-4f86-e5d1-3b289ef36349"
      },
      "execution_count": 324,
      "outputs": [
        {
          "output_type": "execute_result",
          "data": {
            "text/plain": [
              "(4000, 2)"
            ]
          },
          "metadata": {},
          "execution_count": 324
        }
      ]
    },
    {
      "cell_type": "code",
      "source": [
        "yhat"
      ],
      "metadata": {
        "colab": {
          "base_uri": "https://localhost:8080/"
        },
        "id": "qgKmsuoXzmC_",
        "outputId": "0edf9ca8-8af4-4741-beb3-bf3ec9df3e6f"
      },
      "execution_count": 325,
      "outputs": [
        {
          "output_type": "execute_result",
          "data": {
            "text/plain": [
              "array([[9.99919615e-01, 8.03854641e-05],\n",
              "       [9.99329146e-01, 6.70853678e-04],\n",
              "       [9.99905143e-01, 9.48570646e-05],\n",
              "       ...,\n",
              "       [2.56403925e-01, 7.43596075e-01],\n",
              "       [9.99997267e-01, 2.73344832e-06],\n",
              "       [9.99955150e-01, 4.48500415e-05]])"
            ]
          },
          "metadata": {},
          "execution_count": 325
        }
      ]
    },
    {
      "cell_type": "code",
      "source": [
        "# keep probabilities for the positive outcome only\n",
        "probs = yhat[:, 1]"
      ],
      "metadata": {
        "id": "1T5_KlIyyu07"
      },
      "execution_count": 326,
      "outputs": []
    },
    {
      "cell_type": "code",
      "source": [
        "probs.shape"
      ],
      "metadata": {
        "colab": {
          "base_uri": "https://localhost:8080/"
        },
        "id": "7col3iU9ztxS",
        "outputId": "017a0a94-689b-4da4-dba4-3d6f1a1fdff6"
      },
      "execution_count": 327,
      "outputs": [
        {
          "output_type": "execute_result",
          "data": {
            "text/plain": [
              "(4000,)"
            ]
          },
          "metadata": {},
          "execution_count": 327
        }
      ]
    },
    {
      "cell_type": "code",
      "source": [
        "probs"
      ],
      "metadata": {
        "colab": {
          "base_uri": "https://localhost:8080/"
        },
        "id": "f4E_B6Ruzvql",
        "outputId": "9e7789a4-1088-4dcd-f682-baf876b1842d"
      },
      "execution_count": 328,
      "outputs": [
        {
          "output_type": "execute_result",
          "data": {
            "text/plain": [
              "array([8.03854641e-05, 6.70853678e-04, 9.48570646e-05, ...,\n",
              "       7.43596075e-01, 2.73344832e-06, 4.48500415e-05])"
            ]
          },
          "metadata": {},
          "execution_count": 328
        }
      ]
    },
    {
      "cell_type": "code",
      "source": [
        "# define thresholds\n",
        "thresholds = arange(0, 1, 0.001)"
      ],
      "metadata": {
        "id": "MBlFZFM1we_o"
      },
      "execution_count": 329,
      "outputs": []
    },
    {
      "cell_type": "code",
      "source": [
        "thresholds.shape"
      ],
      "metadata": {
        "colab": {
          "base_uri": "https://localhost:8080/"
        },
        "id": "VecOpuMxzxJz",
        "outputId": "6b724ba5-c7d1-4dfc-d4c4-b801b5e4eb26"
      },
      "execution_count": 330,
      "outputs": [
        {
          "output_type": "execute_result",
          "data": {
            "text/plain": [
              "(1000,)"
            ]
          },
          "metadata": {},
          "execution_count": 330
        }
      ]
    },
    {
      "cell_type": "code",
      "source": [
        "thresholds"
      ],
      "metadata": {
        "colab": {
          "base_uri": "https://localhost:8080/"
        },
        "id": "WTab9Wafz0LZ",
        "outputId": "5565f8cd-fc41-43c9-e6e7-3bb873d70cdf"
      },
      "execution_count": 331,
      "outputs": [
        {
          "output_type": "execute_result",
          "data": {
            "text/plain": [
              "array([0.   , 0.001, 0.002, 0.003, 0.004, 0.005, 0.006, 0.007, 0.008,\n",
              "       0.009, 0.01 , 0.011, 0.012, 0.013, 0.014, 0.015, 0.016, 0.017,\n",
              "       0.018, 0.019, 0.02 , 0.021, 0.022, 0.023, 0.024, 0.025, 0.026,\n",
              "       0.027, 0.028, 0.029, 0.03 , 0.031, 0.032, 0.033, 0.034, 0.035,\n",
              "       0.036, 0.037, 0.038, 0.039, 0.04 , 0.041, 0.042, 0.043, 0.044,\n",
              "       0.045, 0.046, 0.047, 0.048, 0.049, 0.05 , 0.051, 0.052, 0.053,\n",
              "       0.054, 0.055, 0.056, 0.057, 0.058, 0.059, 0.06 , 0.061, 0.062,\n",
              "       0.063, 0.064, 0.065, 0.066, 0.067, 0.068, 0.069, 0.07 , 0.071,\n",
              "       0.072, 0.073, 0.074, 0.075, 0.076, 0.077, 0.078, 0.079, 0.08 ,\n",
              "       0.081, 0.082, 0.083, 0.084, 0.085, 0.086, 0.087, 0.088, 0.089,\n",
              "       0.09 , 0.091, 0.092, 0.093, 0.094, 0.095, 0.096, 0.097, 0.098,\n",
              "       0.099, 0.1  , 0.101, 0.102, 0.103, 0.104, 0.105, 0.106, 0.107,\n",
              "       0.108, 0.109, 0.11 , 0.111, 0.112, 0.113, 0.114, 0.115, 0.116,\n",
              "       0.117, 0.118, 0.119, 0.12 , 0.121, 0.122, 0.123, 0.124, 0.125,\n",
              "       0.126, 0.127, 0.128, 0.129, 0.13 , 0.131, 0.132, 0.133, 0.134,\n",
              "       0.135, 0.136, 0.137, 0.138, 0.139, 0.14 , 0.141, 0.142, 0.143,\n",
              "       0.144, 0.145, 0.146, 0.147, 0.148, 0.149, 0.15 , 0.151, 0.152,\n",
              "       0.153, 0.154, 0.155, 0.156, 0.157, 0.158, 0.159, 0.16 , 0.161,\n",
              "       0.162, 0.163, 0.164, 0.165, 0.166, 0.167, 0.168, 0.169, 0.17 ,\n",
              "       0.171, 0.172, 0.173, 0.174, 0.175, 0.176, 0.177, 0.178, 0.179,\n",
              "       0.18 , 0.181, 0.182, 0.183, 0.184, 0.185, 0.186, 0.187, 0.188,\n",
              "       0.189, 0.19 , 0.191, 0.192, 0.193, 0.194, 0.195, 0.196, 0.197,\n",
              "       0.198, 0.199, 0.2  , 0.201, 0.202, 0.203, 0.204, 0.205, 0.206,\n",
              "       0.207, 0.208, 0.209, 0.21 , 0.211, 0.212, 0.213, 0.214, 0.215,\n",
              "       0.216, 0.217, 0.218, 0.219, 0.22 , 0.221, 0.222, 0.223, 0.224,\n",
              "       0.225, 0.226, 0.227, 0.228, 0.229, 0.23 , 0.231, 0.232, 0.233,\n",
              "       0.234, 0.235, 0.236, 0.237, 0.238, 0.239, 0.24 , 0.241, 0.242,\n",
              "       0.243, 0.244, 0.245, 0.246, 0.247, 0.248, 0.249, 0.25 , 0.251,\n",
              "       0.252, 0.253, 0.254, 0.255, 0.256, 0.257, 0.258, 0.259, 0.26 ,\n",
              "       0.261, 0.262, 0.263, 0.264, 0.265, 0.266, 0.267, 0.268, 0.269,\n",
              "       0.27 , 0.271, 0.272, 0.273, 0.274, 0.275, 0.276, 0.277, 0.278,\n",
              "       0.279, 0.28 , 0.281, 0.282, 0.283, 0.284, 0.285, 0.286, 0.287,\n",
              "       0.288, 0.289, 0.29 , 0.291, 0.292, 0.293, 0.294, 0.295, 0.296,\n",
              "       0.297, 0.298, 0.299, 0.3  , 0.301, 0.302, 0.303, 0.304, 0.305,\n",
              "       0.306, 0.307, 0.308, 0.309, 0.31 , 0.311, 0.312, 0.313, 0.314,\n",
              "       0.315, 0.316, 0.317, 0.318, 0.319, 0.32 , 0.321, 0.322, 0.323,\n",
              "       0.324, 0.325, 0.326, 0.327, 0.328, 0.329, 0.33 , 0.331, 0.332,\n",
              "       0.333, 0.334, 0.335, 0.336, 0.337, 0.338, 0.339, 0.34 , 0.341,\n",
              "       0.342, 0.343, 0.344, 0.345, 0.346, 0.347, 0.348, 0.349, 0.35 ,\n",
              "       0.351, 0.352, 0.353, 0.354, 0.355, 0.356, 0.357, 0.358, 0.359,\n",
              "       0.36 , 0.361, 0.362, 0.363, 0.364, 0.365, 0.366, 0.367, 0.368,\n",
              "       0.369, 0.37 , 0.371, 0.372, 0.373, 0.374, 0.375, 0.376, 0.377,\n",
              "       0.378, 0.379, 0.38 , 0.381, 0.382, 0.383, 0.384, 0.385, 0.386,\n",
              "       0.387, 0.388, 0.389, 0.39 , 0.391, 0.392, 0.393, 0.394, 0.395,\n",
              "       0.396, 0.397, 0.398, 0.399, 0.4  , 0.401, 0.402, 0.403, 0.404,\n",
              "       0.405, 0.406, 0.407, 0.408, 0.409, 0.41 , 0.411, 0.412, 0.413,\n",
              "       0.414, 0.415, 0.416, 0.417, 0.418, 0.419, 0.42 , 0.421, 0.422,\n",
              "       0.423, 0.424, 0.425, 0.426, 0.427, 0.428, 0.429, 0.43 , 0.431,\n",
              "       0.432, 0.433, 0.434, 0.435, 0.436, 0.437, 0.438, 0.439, 0.44 ,\n",
              "       0.441, 0.442, 0.443, 0.444, 0.445, 0.446, 0.447, 0.448, 0.449,\n",
              "       0.45 , 0.451, 0.452, 0.453, 0.454, 0.455, 0.456, 0.457, 0.458,\n",
              "       0.459, 0.46 , 0.461, 0.462, 0.463, 0.464, 0.465, 0.466, 0.467,\n",
              "       0.468, 0.469, 0.47 , 0.471, 0.472, 0.473, 0.474, 0.475, 0.476,\n",
              "       0.477, 0.478, 0.479, 0.48 , 0.481, 0.482, 0.483, 0.484, 0.485,\n",
              "       0.486, 0.487, 0.488, 0.489, 0.49 , 0.491, 0.492, 0.493, 0.494,\n",
              "       0.495, 0.496, 0.497, 0.498, 0.499, 0.5  , 0.501, 0.502, 0.503,\n",
              "       0.504, 0.505, 0.506, 0.507, 0.508, 0.509, 0.51 , 0.511, 0.512,\n",
              "       0.513, 0.514, 0.515, 0.516, 0.517, 0.518, 0.519, 0.52 , 0.521,\n",
              "       0.522, 0.523, 0.524, 0.525, 0.526, 0.527, 0.528, 0.529, 0.53 ,\n",
              "       0.531, 0.532, 0.533, 0.534, 0.535, 0.536, 0.537, 0.538, 0.539,\n",
              "       0.54 , 0.541, 0.542, 0.543, 0.544, 0.545, 0.546, 0.547, 0.548,\n",
              "       0.549, 0.55 , 0.551, 0.552, 0.553, 0.554, 0.555, 0.556, 0.557,\n",
              "       0.558, 0.559, 0.56 , 0.561, 0.562, 0.563, 0.564, 0.565, 0.566,\n",
              "       0.567, 0.568, 0.569, 0.57 , 0.571, 0.572, 0.573, 0.574, 0.575,\n",
              "       0.576, 0.577, 0.578, 0.579, 0.58 , 0.581, 0.582, 0.583, 0.584,\n",
              "       0.585, 0.586, 0.587, 0.588, 0.589, 0.59 , 0.591, 0.592, 0.593,\n",
              "       0.594, 0.595, 0.596, 0.597, 0.598, 0.599, 0.6  , 0.601, 0.602,\n",
              "       0.603, 0.604, 0.605, 0.606, 0.607, 0.608, 0.609, 0.61 , 0.611,\n",
              "       0.612, 0.613, 0.614, 0.615, 0.616, 0.617, 0.618, 0.619, 0.62 ,\n",
              "       0.621, 0.622, 0.623, 0.624, 0.625, 0.626, 0.627, 0.628, 0.629,\n",
              "       0.63 , 0.631, 0.632, 0.633, 0.634, 0.635, 0.636, 0.637, 0.638,\n",
              "       0.639, 0.64 , 0.641, 0.642, 0.643, 0.644, 0.645, 0.646, 0.647,\n",
              "       0.648, 0.649, 0.65 , 0.651, 0.652, 0.653, 0.654, 0.655, 0.656,\n",
              "       0.657, 0.658, 0.659, 0.66 , 0.661, 0.662, 0.663, 0.664, 0.665,\n",
              "       0.666, 0.667, 0.668, 0.669, 0.67 , 0.671, 0.672, 0.673, 0.674,\n",
              "       0.675, 0.676, 0.677, 0.678, 0.679, 0.68 , 0.681, 0.682, 0.683,\n",
              "       0.684, 0.685, 0.686, 0.687, 0.688, 0.689, 0.69 , 0.691, 0.692,\n",
              "       0.693, 0.694, 0.695, 0.696, 0.697, 0.698, 0.699, 0.7  , 0.701,\n",
              "       0.702, 0.703, 0.704, 0.705, 0.706, 0.707, 0.708, 0.709, 0.71 ,\n",
              "       0.711, 0.712, 0.713, 0.714, 0.715, 0.716, 0.717, 0.718, 0.719,\n",
              "       0.72 , 0.721, 0.722, 0.723, 0.724, 0.725, 0.726, 0.727, 0.728,\n",
              "       0.729, 0.73 , 0.731, 0.732, 0.733, 0.734, 0.735, 0.736, 0.737,\n",
              "       0.738, 0.739, 0.74 , 0.741, 0.742, 0.743, 0.744, 0.745, 0.746,\n",
              "       0.747, 0.748, 0.749, 0.75 , 0.751, 0.752, 0.753, 0.754, 0.755,\n",
              "       0.756, 0.757, 0.758, 0.759, 0.76 , 0.761, 0.762, 0.763, 0.764,\n",
              "       0.765, 0.766, 0.767, 0.768, 0.769, 0.77 , 0.771, 0.772, 0.773,\n",
              "       0.774, 0.775, 0.776, 0.777, 0.778, 0.779, 0.78 , 0.781, 0.782,\n",
              "       0.783, 0.784, 0.785, 0.786, 0.787, 0.788, 0.789, 0.79 , 0.791,\n",
              "       0.792, 0.793, 0.794, 0.795, 0.796, 0.797, 0.798, 0.799, 0.8  ,\n",
              "       0.801, 0.802, 0.803, 0.804, 0.805, 0.806, 0.807, 0.808, 0.809,\n",
              "       0.81 , 0.811, 0.812, 0.813, 0.814, 0.815, 0.816, 0.817, 0.818,\n",
              "       0.819, 0.82 , 0.821, 0.822, 0.823, 0.824, 0.825, 0.826, 0.827,\n",
              "       0.828, 0.829, 0.83 , 0.831, 0.832, 0.833, 0.834, 0.835, 0.836,\n",
              "       0.837, 0.838, 0.839, 0.84 , 0.841, 0.842, 0.843, 0.844, 0.845,\n",
              "       0.846, 0.847, 0.848, 0.849, 0.85 , 0.851, 0.852, 0.853, 0.854,\n",
              "       0.855, 0.856, 0.857, 0.858, 0.859, 0.86 , 0.861, 0.862, 0.863,\n",
              "       0.864, 0.865, 0.866, 0.867, 0.868, 0.869, 0.87 , 0.871, 0.872,\n",
              "       0.873, 0.874, 0.875, 0.876, 0.877, 0.878, 0.879, 0.88 , 0.881,\n",
              "       0.882, 0.883, 0.884, 0.885, 0.886, 0.887, 0.888, 0.889, 0.89 ,\n",
              "       0.891, 0.892, 0.893, 0.894, 0.895, 0.896, 0.897, 0.898, 0.899,\n",
              "       0.9  , 0.901, 0.902, 0.903, 0.904, 0.905, 0.906, 0.907, 0.908,\n",
              "       0.909, 0.91 , 0.911, 0.912, 0.913, 0.914, 0.915, 0.916, 0.917,\n",
              "       0.918, 0.919, 0.92 , 0.921, 0.922, 0.923, 0.924, 0.925, 0.926,\n",
              "       0.927, 0.928, 0.929, 0.93 , 0.931, 0.932, 0.933, 0.934, 0.935,\n",
              "       0.936, 0.937, 0.938, 0.939, 0.94 , 0.941, 0.942, 0.943, 0.944,\n",
              "       0.945, 0.946, 0.947, 0.948, 0.949, 0.95 , 0.951, 0.952, 0.953,\n",
              "       0.954, 0.955, 0.956, 0.957, 0.958, 0.959, 0.96 , 0.961, 0.962,\n",
              "       0.963, 0.964, 0.965, 0.966, 0.967, 0.968, 0.969, 0.97 , 0.971,\n",
              "       0.972, 0.973, 0.974, 0.975, 0.976, 0.977, 0.978, 0.979, 0.98 ,\n",
              "       0.981, 0.982, 0.983, 0.984, 0.985, 0.986, 0.987, 0.988, 0.989,\n",
              "       0.99 , 0.991, 0.992, 0.993, 0.994, 0.995, 0.996, 0.997, 0.998,\n",
              "       0.999])"
            ]
          },
          "metadata": {},
          "execution_count": 331
        }
      ]
    },
    {
      "cell_type": "code",
      "source": [
        "# apply threshold to positive probabilities to create labels\n",
        "def to_labels(pos_probs, threshold):\n",
        "  return (pos_probs >= threshold).astype('int')"
      ],
      "metadata": {
        "id": "dWX4vIIBybix"
      },
      "execution_count": 332,
      "outputs": []
    },
    {
      "cell_type": "code",
      "source": [
        "# evaluate each threshold\n",
        "scores = [f1_score(testy, to_labels(probs, t)) for t in thresholds]"
      ],
      "metadata": {
        "id": "uR3Lb_5Ewkji"
      },
      "execution_count": 333,
      "outputs": []
    },
    {
      "cell_type": "code",
      "source": [
        "len(scores)"
      ],
      "metadata": {
        "colab": {
          "base_uri": "https://localhost:8080/"
        },
        "id": "3jtiwhP60Yh6",
        "outputId": "40ce36d0-fb46-4243-f206-4ff4f862b431"
      },
      "execution_count": 334,
      "outputs": [
        {
          "output_type": "execute_result",
          "data": {
            "text/plain": [
              "1000"
            ]
          },
          "metadata": {},
          "execution_count": 334
        }
      ]
    },
    {
      "cell_type": "code",
      "source": [
        "scores"
      ],
      "metadata": {
        "colab": {
          "base_uri": "https://localhost:8080/"
        },
        "id": "YArEp8ZR0NtX",
        "outputId": "0c66b6e3-50bc-451b-cae0-2cb06c8ac859"
      },
      "execution_count": 335,
      "outputs": [
        {
          "output_type": "execute_result",
          "data": {
            "text/plain": [
              "[0.019801980198019802,\n",
              " 0.10583446404341926,\n",
              " 0.13854351687388988,\n",
              " 0.16666666666666666,\n",
              " 0.1870503597122302,\n",
              " 0.20799999999999996,\n",
              " 0.22478386167146974,\n",
              " 0.23999999999999996,\n",
              " 0.25407166123778496,\n",
              " 0.2662116040955631,\n",
              " 0.28158844765342955,\n",
              " 0.30115830115830117,\n",
              " 0.30039525691699603,\n",
              " 0.319327731092437,\n",
              " 0.33187772925764186,\n",
              " 0.33777777777777784,\n",
              " 0.34234234234234234,\n",
              " 0.35514018691588783,\n",
              " 0.36538461538461536,\n",
              " 0.3707317073170732,\n",
              " 0.3781094527363184,\n",
              " 0.38974358974358975,\n",
              " 0.3979057591623037,\n",
              " 0.40425531914893614,\n",
              " 0.40860215053763443,\n",
              " 0.4,\n",
              " 0.4088397790055248,\n",
              " 0.4180790960451977,\n",
              " 0.42045454545454547,\n",
              " 0.42528735632183906,\n",
              " 0.4327485380116959,\n",
              " 0.4431137724550898,\n",
              " 0.4457831325301205,\n",
              " 0.451219512195122,\n",
              " 0.4567901234567901,\n",
              " 0.4472049689440994,\n",
              " 0.44025157232704404,\n",
              " 0.4430379746835442,\n",
              " 0.445859872611465,\n",
              " 0.4516129032258065,\n",
              " 0.4516129032258065,\n",
              " 0.45751633986928103,\n",
              " 0.46357615894039744,\n",
              " 0.46357615894039744,\n",
              " 0.4666666666666667,\n",
              " 0.472972972972973,\n",
              " 0.4761904761904762,\n",
              " 0.4794520547945205,\n",
              " 0.48611111111111105,\n",
              " 0.48611111111111105,\n",
              " 0.48951048951048953,\n",
              " 0.4929577464788732,\n",
              " 0.4999999999999999,\n",
              " 0.5035971223021583,\n",
              " 0.5035971223021583,\n",
              " 0.5035971223021583,\n",
              " 0.5035971223021583,\n",
              " 0.5072463768115941,\n",
              " 0.510948905109489,\n",
              " 0.5147058823529411,\n",
              " 0.5185185185185185,\n",
              " 0.5185185185185185,\n",
              " 0.5263157894736842,\n",
              " 0.5303030303030303,\n",
              " 0.5303030303030303,\n",
              " 0.5343511450381679,\n",
              " 0.5426356589147288,\n",
              " 0.5426356589147288,\n",
              " 0.5396825396825397,\n",
              " 0.5396825396825397,\n",
              " 0.544,\n",
              " 0.544,\n",
              " 0.544,\n",
              " 0.544,\n",
              " 0.544,\n",
              " 0.544,\n",
              " 0.532258064516129,\n",
              " 0.5365853658536586,\n",
              " 0.5454545454545454,\n",
              " 0.55,\n",
              " 0.55,\n",
              " 0.55,\n",
              " 0.5546218487394958,\n",
              " 0.5546218487394958,\n",
              " 0.5546218487394958,\n",
              " 0.559322033898305,\n",
              " 0.559322033898305,\n",
              " 0.559322033898305,\n",
              " 0.559322033898305,\n",
              " 0.559322033898305,\n",
              " 0.559322033898305,\n",
              " 0.5641025641025641,\n",
              " 0.5641025641025641,\n",
              " 0.5641025641025641,\n",
              " 0.5641025641025641,\n",
              " 0.5689655172413792,\n",
              " 0.5789473684210527,\n",
              " 0.584070796460177,\n",
              " 0.5714285714285714,\n",
              " 0.5714285714285714,\n",
              " 0.5765765765765766,\n",
              " 0.5818181818181818,\n",
              " 0.5818181818181818,\n",
              " 0.5818181818181818,\n",
              " 0.5818181818181818,\n",
              " 0.5818181818181818,\n",
              " 0.5818181818181818,\n",
              " 0.5818181818181818,\n",
              " 0.5688073394495413,\n",
              " 0.5688073394495413,\n",
              " 0.5740740740740741,\n",
              " 0.5740740740740741,\n",
              " 0.5794392523364486,\n",
              " 0.5794392523364486,\n",
              " 0.5794392523364486,\n",
              " 0.5849056603773586,\n",
              " 0.5714285714285714,\n",
              " 0.5631067961165048,\n",
              " 0.5631067961165048,\n",
              " 0.5686274509803921,\n",
              " 0.5686274509803921,\n",
              " 0.5742574257425742,\n",
              " 0.58,\n",
              " 0.58,\n",
              " 0.58,\n",
              " 0.5656565656565656,\n",
              " 0.5656565656565656,\n",
              " 0.5656565656565656,\n",
              " 0.5656565656565656,\n",
              " 0.5714285714285714,\n",
              " 0.5714285714285714,\n",
              " 0.5773195876288659,\n",
              " 0.5773195876288659,\n",
              " 0.5773195876288659,\n",
              " 0.5773195876288659,\n",
              " 0.5773195876288659,\n",
              " 0.5773195876288659,\n",
              " 0.5833333333333334,\n",
              " 0.5833333333333334,\n",
              " 0.5833333333333334,\n",
              " 0.5833333333333334,\n",
              " 0.5833333333333334,\n",
              " 0.5833333333333334,\n",
              " 0.5833333333333334,\n",
              " 0.5833333333333334,\n",
              " 0.5833333333333334,\n",
              " 0.5833333333333334,\n",
              " 0.5833333333333334,\n",
              " 0.5833333333333334,\n",
              " 0.5894736842105263,\n",
              " 0.5894736842105263,\n",
              " 0.5957446808510639,\n",
              " 0.5957446808510639,\n",
              " 0.5957446808510639,\n",
              " 0.6021505376344085,\n",
              " 0.6021505376344085,\n",
              " 0.6021505376344085,\n",
              " 0.6021505376344085,\n",
              " 0.6021505376344085,\n",
              " 0.608695652173913,\n",
              " 0.608695652173913,\n",
              " 0.608695652173913,\n",
              " 0.608695652173913,\n",
              " 0.608695652173913,\n",
              " 0.608695652173913,\n",
              " 0.608695652173913,\n",
              " 0.608695652173913,\n",
              " 0.6153846153846154,\n",
              " 0.6153846153846154,\n",
              " 0.6292134831460674,\n",
              " 0.6292134831460674,\n",
              " 0.6292134831460674,\n",
              " 0.6292134831460674,\n",
              " 0.6292134831460674,\n",
              " 0.6363636363636365,\n",
              " 0.6363636363636365,\n",
              " 0.6363636363636365,\n",
              " 0.6363636363636365,\n",
              " 0.6363636363636365,\n",
              " 0.6363636363636365,\n",
              " 0.6363636363636365,\n",
              " 0.6363636363636365,\n",
              " 0.6363636363636365,\n",
              " 0.6363636363636365,\n",
              " 0.6206896551724138,\n",
              " 0.6206896551724138,\n",
              " 0.6206896551724138,\n",
              " 0.6206896551724138,\n",
              " 0.6206896551724138,\n",
              " 0.6206896551724138,\n",
              " 0.6206896551724138,\n",
              " 0.6206896551724138,\n",
              " 0.6206896551724138,\n",
              " 0.6117647058823529,\n",
              " 0.6117647058823529,\n",
              " 0.6117647058823529,\n",
              " 0.6117647058823529,\n",
              " 0.6117647058823529,\n",
              " 0.6117647058823529,\n",
              " 0.6190476190476191,\n",
              " 0.6265060240963854,\n",
              " 0.6265060240963854,\n",
              " 0.6265060240963854,\n",
              " 0.6265060240963854,\n",
              " 0.6265060240963854,\n",
              " 0.6265060240963854,\n",
              " 0.6265060240963854,\n",
              " 0.6341463414634146,\n",
              " 0.6341463414634146,\n",
              " 0.6341463414634146,\n",
              " 0.6341463414634146,\n",
              " 0.6341463414634146,\n",
              " 0.6341463414634146,\n",
              " 0.6341463414634146,\n",
              " 0.6341463414634146,\n",
              " 0.6341463414634146,\n",
              " 0.6341463414634146,\n",
              " 0.6341463414634146,\n",
              " 0.6341463414634146,\n",
              " 0.6341463414634146,\n",
              " 0.6341463414634146,\n",
              " 0.6341463414634146,\n",
              " 0.6341463414634146,\n",
              " 0.6341463414634146,\n",
              " 0.6341463414634146,\n",
              " 0.6341463414634146,\n",
              " 0.6341463414634146,\n",
              " 0.6341463414634146,\n",
              " 0.6341463414634146,\n",
              " 0.6341463414634146,\n",
              " 0.6341463414634146,\n",
              " 0.6341463414634146,\n",
              " 0.6341463414634146,\n",
              " 0.6341463414634146,\n",
              " 0.6341463414634146,\n",
              " 0.6341463414634146,\n",
              " 0.6341463414634146,\n",
              " 0.6341463414634146,\n",
              " 0.6341463414634146,\n",
              " 0.6341463414634146,\n",
              " 0.6419753086419754,\n",
              " 0.6419753086419754,\n",
              " 0.6419753086419754,\n",
              " 0.6419753086419754,\n",
              " 0.6419753086419754,\n",
              " 0.6419753086419754,\n",
              " 0.6419753086419754,\n",
              " 0.6419753086419754,\n",
              " 0.6419753086419754,\n",
              " 0.6419753086419754,\n",
              " 0.6419753086419754,\n",
              " 0.6419753086419754,\n",
              " 0.6419753086419754,\n",
              " 0.6419753086419754,\n",
              " 0.6419753086419754,\n",
              " 0.625,\n",
              " 0.625,\n",
              " 0.625,\n",
              " 0.625,\n",
              " 0.625,\n",
              " 0.625,\n",
              " 0.6075949367088608,\n",
              " 0.6153846153846154,\n",
              " 0.6153846153846154,\n",
              " 0.6153846153846154,\n",
              " 0.6153846153846154,\n",
              " 0.6153846153846154,\n",
              " 0.6153846153846154,\n",
              " 0.6153846153846154,\n",
              " 0.6153846153846154,\n",
              " 0.6233766233766234,\n",
              " 0.6233766233766234,\n",
              " 0.6233766233766234,\n",
              " 0.6233766233766234,\n",
              " 0.6233766233766234,\n",
              " 0.6233766233766234,\n",
              " 0.6233766233766234,\n",
              " 0.6233766233766234,\n",
              " 0.6233766233766234,\n",
              " 0.6233766233766234,\n",
              " 0.6233766233766234,\n",
              " 0.6233766233766234,\n",
              " 0.6233766233766234,\n",
              " 0.6233766233766234,\n",
              " 0.6233766233766234,\n",
              " 0.6233766233766234,\n",
              " 0.6233766233766234,\n",
              " 0.6233766233766234,\n",
              " 0.6233766233766234,\n",
              " 0.6233766233766234,\n",
              " 0.6233766233766234,\n",
              " 0.6233766233766234,\n",
              " 0.6233766233766234,\n",
              " 0.6233766233766234,\n",
              " 0.631578947368421,\n",
              " 0.631578947368421,\n",
              " 0.631578947368421,\n",
              " 0.631578947368421,\n",
              " 0.631578947368421,\n",
              " 0.631578947368421,\n",
              " 0.631578947368421,\n",
              " 0.631578947368421,\n",
              " 0.631578947368421,\n",
              " 0.64,\n",
              " 0.64,\n",
              " 0.64,\n",
              " 0.64,\n",
              " 0.64,\n",
              " 0.64,\n",
              " 0.64,\n",
              " 0.64,\n",
              " 0.64,\n",
              " 0.6486486486486486,\n",
              " 0.6486486486486486,\n",
              " 0.6486486486486486,\n",
              " 0.6486486486486486,\n",
              " 0.6486486486486486,\n",
              " 0.6486486486486486,\n",
              " 0.6486486486486486,\n",
              " 0.6486486486486486,\n",
              " 0.6486486486486486,\n",
              " 0.6486486486486486,\n",
              " 0.6575342465753425,\n",
              " 0.6575342465753425,\n",
              " 0.6666666666666665,\n",
              " 0.6666666666666665,\n",
              " 0.6666666666666665,\n",
              " 0.6666666666666665,\n",
              " 0.6666666666666665,\n",
              " 0.6666666666666665,\n",
              " 0.6666666666666665,\n",
              " 0.6666666666666665,\n",
              " 0.6666666666666665,\n",
              " 0.6666666666666665,\n",
              " 0.6666666666666665,\n",
              " 0.6666666666666665,\n",
              " 0.6666666666666665,\n",
              " 0.6666666666666665,\n",
              " 0.6666666666666665,\n",
              " 0.6666666666666665,\n",
              " 0.6666666666666665,\n",
              " 0.6666666666666665,\n",
              " 0.6666666666666665,\n",
              " 0.6666666666666665,\n",
              " 0.6666666666666665,\n",
              " 0.6666666666666665,\n",
              " 0.6666666666666665,\n",
              " 0.6666666666666665,\n",
              " 0.6666666666666665,\n",
              " 0.676056338028169,\n",
              " 0.676056338028169,\n",
              " 0.676056338028169,\n",
              " 0.676056338028169,\n",
              " 0.676056338028169,\n",
              " 0.676056338028169,\n",
              " 0.676056338028169,\n",
              " 0.676056338028169,\n",
              " 0.676056338028169,\n",
              " 0.676056338028169,\n",
              " 0.676056338028169,\n",
              " 0.676056338028169,\n",
              " 0.676056338028169,\n",
              " 0.676056338028169,\n",
              " 0.676056338028169,\n",
              " 0.676056338028169,\n",
              " 0.676056338028169,\n",
              " 0.676056338028169,\n",
              " 0.676056338028169,\n",
              " 0.676056338028169,\n",
              " 0.676056338028169,\n",
              " 0.676056338028169,\n",
              " 0.676056338028169,\n",
              " 0.676056338028169,\n",
              " 0.676056338028169,\n",
              " 0.676056338028169,\n",
              " 0.676056338028169,\n",
              " 0.676056338028169,\n",
              " 0.676056338028169,\n",
              " 0.676056338028169,\n",
              " 0.676056338028169,\n",
              " 0.676056338028169,\n",
              " 0.676056338028169,\n",
              " 0.676056338028169,\n",
              " 0.676056338028169,\n",
              " 0.676056338028169,\n",
              " 0.676056338028169,\n",
              " 0.6571428571428571,\n",
              " 0.6571428571428571,\n",
              " 0.6376811594202898,\n",
              " 0.6376811594202898,\n",
              " 0.6376811594202898,\n",
              " 0.6376811594202898,\n",
              " 0.6376811594202898,\n",
              " 0.6176470588235295,\n",
              " 0.6176470588235295,\n",
              " 0.6176470588235295,\n",
              " 0.6176470588235295,\n",
              " 0.6268656716417911,\n",
              " 0.6268656716417911,\n",
              " 0.6268656716417911,\n",
              " 0.6268656716417911,\n",
              " 0.6268656716417911,\n",
              " 0.6268656716417911,\n",
              " 0.6268656716417911,\n",
              " 0.6268656716417911,\n",
              " 0.6268656716417911,\n",
              " 0.6268656716417911,\n",
              " 0.6268656716417911,\n",
              " 0.6268656716417911,\n",
              " 0.6268656716417911,\n",
              " 0.6268656716417911,\n",
              " 0.6268656716417911,\n",
              " 0.6268656716417911,\n",
              " 0.6268656716417911,\n",
              " 0.6268656716417911,\n",
              " 0.6268656716417911,\n",
              " 0.6268656716417911,\n",
              " 0.6268656716417911,\n",
              " 0.6268656716417911,\n",
              " 0.6060606060606061,\n",
              " 0.6060606060606061,\n",
              " 0.6060606060606061,\n",
              " 0.6060606060606061,\n",
              " 0.6060606060606061,\n",
              " 0.6060606060606061,\n",
              " 0.6060606060606061,\n",
              " 0.6060606060606061,\n",
              " 0.6060606060606061,\n",
              " 0.6060606060606061,\n",
              " 0.6060606060606061,\n",
              " 0.6060606060606061,\n",
              " 0.6060606060606061,\n",
              " 0.6060606060606061,\n",
              " 0.6060606060606061,\n",
              " 0.6060606060606061,\n",
              " 0.6060606060606061,\n",
              " 0.6060606060606061,\n",
              " 0.6060606060606061,\n",
              " 0.6060606060606061,\n",
              " 0.6060606060606061,\n",
              " 0.6060606060606061,\n",
              " 0.6060606060606061,\n",
              " 0.6060606060606061,\n",
              " 0.6060606060606061,\n",
              " 0.6060606060606061,\n",
              " 0.6060606060606061,\n",
              " 0.6060606060606061,\n",
              " 0.6060606060606061,\n",
              " 0.6060606060606061,\n",
              " 0.6060606060606061,\n",
              " 0.6060606060606061,\n",
              " 0.6060606060606061,\n",
              " 0.6060606060606061,\n",
              " 0.6060606060606061,\n",
              " 0.6060606060606061,\n",
              " 0.6060606060606061,\n",
              " 0.6060606060606061,\n",
              " 0.6060606060606061,\n",
              " 0.6060606060606061,\n",
              " 0.6060606060606061,\n",
              " 0.6153846153846154,\n",
              " 0.6153846153846154,\n",
              " 0.6153846153846154,\n",
              " 0.6153846153846154,\n",
              " 0.6153846153846154,\n",
              " 0.6153846153846154,\n",
              " 0.6153846153846154,\n",
              " 0.6153846153846154,\n",
              " 0.6153846153846154,\n",
              " 0.6153846153846154,\n",
              " 0.6153846153846154,\n",
              " 0.6153846153846154,\n",
              " 0.6153846153846154,\n",
              " 0.6153846153846154,\n",
              " 0.6153846153846154,\n",
              " 0.6153846153846154,\n",
              " 0.6153846153846154,\n",
              " 0.6153846153846154,\n",
              " 0.6153846153846154,\n",
              " 0.6153846153846154,\n",
              " 0.6153846153846154,\n",
              " 0.6153846153846154,\n",
              " 0.6153846153846154,\n",
              " 0.6153846153846154,\n",
              " 0.6153846153846154,\n",
              " 0.6153846153846154,\n",
              " 0.6153846153846154,\n",
              " 0.6153846153846154,\n",
              " 0.6153846153846154,\n",
              " 0.6153846153846154,\n",
              " 0.6153846153846154,\n",
              " 0.6153846153846154,\n",
              " 0.6153846153846154,\n",
              " 0.6153846153846154,\n",
              " 0.6153846153846154,\n",
              " 0.6153846153846154,\n",
              " 0.6153846153846154,\n",
              " 0.6153846153846154,\n",
              " 0.6153846153846154,\n",
              " 0.6153846153846154,\n",
              " 0.6153846153846154,\n",
              " 0.6153846153846154,\n",
              " 0.6153846153846154,\n",
              " 0.6153846153846154,\n",
              " 0.6153846153846154,\n",
              " 0.6153846153846154,\n",
              " 0.6153846153846154,\n",
              " 0.6153846153846154,\n",
              " 0.6153846153846154,\n",
              " 0.6153846153846154,\n",
              " 0.6153846153846154,\n",
              " 0.6153846153846154,\n",
              " 0.6153846153846154,\n",
              " 0.6153846153846154,\n",
              " 0.6153846153846154,\n",
              " 0.6153846153846154,\n",
              " 0.6153846153846154,\n",
              " 0.6153846153846154,\n",
              " 0.6153846153846154,\n",
              " 0.6153846153846154,\n",
              " 0.6153846153846154,\n",
              " 0.6153846153846154,\n",
              " 0.6153846153846154,\n",
              " 0.6153846153846154,\n",
              " 0.6153846153846154,\n",
              " 0.6153846153846154,\n",
              " 0.6153846153846154,\n",
              " 0.6153846153846154,\n",
              " 0.6153846153846154,\n",
              " 0.6153846153846154,\n",
              " 0.6153846153846154,\n",
              " 0.6153846153846154,\n",
              " 0.6153846153846154,\n",
              " 0.6153846153846154,\n",
              " 0.6153846153846154,\n",
              " 0.6153846153846154,\n",
              " 0.6153846153846154,\n",
              " 0.6153846153846154,\n",
              " 0.6153846153846154,\n",
              " 0.6153846153846154,\n",
              " 0.6153846153846154,\n",
              " 0.6153846153846154,\n",
              " 0.6153846153846154,\n",
              " 0.6153846153846154,\n",
              " 0.6153846153846154,\n",
              " 0.6153846153846154,\n",
              " 0.6153846153846154,\n",
              " 0.6153846153846154,\n",
              " 0.625,\n",
              " 0.625,\n",
              " 0.625,\n",
              " 0.625,\n",
              " 0.625,\n",
              " 0.625,\n",
              " 0.625,\n",
              " 0.625,\n",
              " 0.625,\n",
              " 0.625,\n",
              " 0.625,\n",
              " 0.625,\n",
              " 0.625,\n",
              " 0.625,\n",
              " 0.625,\n",
              " 0.625,\n",
              " 0.625,\n",
              " 0.625,\n",
              " 0.625,\n",
              " 0.625,\n",
              " 0.625,\n",
              " 0.625,\n",
              " 0.625,\n",
              " 0.625,\n",
              " 0.634920634920635,\n",
              " 0.634920634920635,\n",
              " 0.634920634920635,\n",
              " 0.634920634920635,\n",
              " 0.634920634920635,\n",
              " 0.6129032258064516,\n",
              " 0.6129032258064516,\n",
              " 0.6129032258064516,\n",
              " 0.6129032258064516,\n",
              " 0.6129032258064516,\n",
              " 0.6129032258064516,\n",
              " 0.6129032258064516,\n",
              " 0.6129032258064516,\n",
              " 0.6129032258064516,\n",
              " 0.6129032258064516,\n",
              " 0.6129032258064516,\n",
              " 0.6129032258064516,\n",
              " 0.6129032258064516,\n",
              " 0.6129032258064516,\n",
              " 0.6129032258064516,\n",
              " 0.6129032258064516,\n",
              " 0.6129032258064516,\n",
              " 0.6129032258064516,\n",
              " 0.6129032258064516,\n",
              " 0.6129032258064516,\n",
              " 0.6129032258064516,\n",
              " 0.6129032258064516,\n",
              " 0.6129032258064516,\n",
              " 0.6129032258064516,\n",
              " 0.6129032258064516,\n",
              " 0.6129032258064516,\n",
              " 0.6129032258064516,\n",
              " 0.6129032258064516,\n",
              " 0.6129032258064516,\n",
              " 0.6129032258064516,\n",
              " 0.6129032258064516,\n",
              " 0.6129032258064516,\n",
              " 0.5901639344262294,\n",
              " 0.5901639344262294,\n",
              " 0.5901639344262294,\n",
              " 0.5901639344262294,\n",
              " 0.5901639344262294,\n",
              " 0.5901639344262294,\n",
              " 0.5901639344262294,\n",
              " 0.5901639344262294,\n",
              " 0.5901639344262294,\n",
              " 0.5901639344262294,\n",
              " 0.5901639344262294,\n",
              " 0.5901639344262294,\n",
              " 0.5901639344262294,\n",
              " 0.5666666666666667,\n",
              " 0.5666666666666667,\n",
              " 0.5666666666666667,\n",
              " 0.5666666666666667,\n",
              " 0.5423728813559322,\n",
              " 0.5423728813559322,\n",
              " 0.5423728813559322,\n",
              " 0.5423728813559322,\n",
              " 0.5423728813559322,\n",
              " 0.5423728813559322,\n",
              " 0.5423728813559322,\n",
              " 0.5423728813559322,\n",
              " 0.5423728813559322,\n",
              " 0.5423728813559322,\n",
              " 0.5423728813559322,\n",
              " 0.5423728813559322,\n",
              " 0.5423728813559322,\n",
              " 0.5423728813559322,\n",
              " 0.5423728813559322,\n",
              " 0.5423728813559322,\n",
              " 0.5423728813559322,\n",
              " 0.5423728813559322,\n",
              " 0.5423728813559322,\n",
              " 0.5423728813559322,\n",
              " 0.5423728813559322,\n",
              " 0.5423728813559322,\n",
              " 0.5423728813559322,\n",
              " 0.5172413793103448,\n",
              " 0.5172413793103448,\n",
              " 0.5172413793103448,\n",
              " 0.5172413793103448,\n",
              " 0.5172413793103448,\n",
              " 0.5172413793103448,\n",
              " 0.4912280701754386,\n",
              " 0.4912280701754386,\n",
              " 0.4912280701754386,\n",
              " 0.4912280701754386,\n",
              " 0.4912280701754386,\n",
              " 0.4912280701754386,\n",
              " 0.4912280701754386,\n",
              " 0.4912280701754386,\n",
              " 0.46428571428571436,\n",
              " 0.46428571428571436,\n",
              " 0.46428571428571436,\n",
              " 0.46428571428571436,\n",
              " 0.46428571428571436,\n",
              " 0.46428571428571436,\n",
              " 0.46428571428571436,\n",
              " 0.46428571428571436,\n",
              " 0.46428571428571436,\n",
              " 0.46428571428571436,\n",
              " 0.46428571428571436,\n",
              " 0.46428571428571436,\n",
              " 0.46428571428571436,\n",
              " 0.46428571428571436,\n",
              " 0.46428571428571436,\n",
              " 0.46428571428571436,\n",
              " 0.46428571428571436,\n",
              " 0.46428571428571436,\n",
              " 0.46428571428571436,\n",
              " 0.46428571428571436,\n",
              " 0.46428571428571436,\n",
              " 0.46428571428571436,\n",
              " 0.46428571428571436,\n",
              " 0.46428571428571436,\n",
              " 0.46428571428571436,\n",
              " 0.4727272727272728,\n",
              " 0.4727272727272728,\n",
              " 0.4727272727272728,\n",
              " 0.4727272727272728,\n",
              " 0.4444444444444444,\n",
              " 0.4444444444444444,\n",
              " 0.4444444444444444,\n",
              " 0.4444444444444444,\n",
              " 0.4444444444444444,\n",
              " 0.4444444444444444,\n",
              " 0.4444444444444444,\n",
              " 0.4444444444444444,\n",
              " 0.4444444444444444,\n",
              " 0.4444444444444444,\n",
              " 0.4444444444444444,\n",
              " 0.4444444444444444,\n",
              " 0.4444444444444444,\n",
              " 0.4444444444444444,\n",
              " 0.4444444444444444,\n",
              " 0.4444444444444444,\n",
              " 0.4444444444444444,\n",
              " 0.4528301886792453,\n",
              " 0.4528301886792453,\n",
              " 0.4528301886792453,\n",
              " 0.4528301886792453,\n",
              " 0.4528301886792453,\n",
              " 0.4528301886792453,\n",
              " 0.4528301886792453,\n",
              " 0.4528301886792453,\n",
              " 0.4528301886792453,\n",
              " 0.4528301886792453,\n",
              " 0.4528301886792453,\n",
              " 0.4528301886792453,\n",
              " 0.4528301886792453,\n",
              " 0.4528301886792453,\n",
              " 0.4528301886792453,\n",
              " 0.4528301886792453,\n",
              " 0.4528301886792453,\n",
              " 0.4528301886792453,\n",
              " 0.4528301886792453,\n",
              " 0.4528301886792453,\n",
              " 0.4528301886792453,\n",
              " 0.4528301886792453,\n",
              " 0.4528301886792453,\n",
              " 0.4528301886792453,\n",
              " 0.4528301886792453,\n",
              " 0.4528301886792453,\n",
              " 0.4528301886792453,\n",
              " 0.4528301886792453,\n",
              " 0.4528301886792453,\n",
              " 0.4528301886792453,\n",
              " 0.4528301886792453,\n",
              " 0.4528301886792453,\n",
              " 0.4528301886792453,\n",
              " 0.4528301886792453,\n",
              " 0.4528301886792453,\n",
              " 0.4615384615384615,\n",
              " 0.4615384615384615,\n",
              " 0.4615384615384615,\n",
              " 0.4615384615384615,\n",
              " 0.4615384615384615,\n",
              " 0.4615384615384615,\n",
              " 0.4615384615384615,\n",
              " 0.4615384615384615,\n",
              " 0.4313725490196079,\n",
              " 0.4313725490196079,\n",
              " 0.4313725490196079,\n",
              " 0.4313725490196079,\n",
              " 0.4313725490196079,\n",
              " 0.4313725490196079,\n",
              " 0.4313725490196079,\n",
              " 0.4313725490196079,\n",
              " 0.4313725490196079,\n",
              " 0.4313725490196079,\n",
              " 0.4313725490196079,\n",
              " 0.4313725490196079,\n",
              " 0.4313725490196079,\n",
              " 0.4313725490196079,\n",
              " 0.4313725490196079,\n",
              " 0.4313725490196079,\n",
              " 0.4313725490196079,\n",
              " 0.4313725490196079,\n",
              " 0.4313725490196079,\n",
              " 0.4313725490196079,\n",
              " 0.4313725490196079,\n",
              " 0.4313725490196079,\n",
              " 0.4313725490196079,\n",
              " 0.4313725490196079,\n",
              " 0.4313725490196079,\n",
              " 0.4313725490196079,\n",
              " 0.4313725490196079,\n",
              " 0.4313725490196079,\n",
              " 0.4313725490196079,\n",
              " 0.4,\n",
              " 0.4,\n",
              " 0.4,\n",
              " 0.4,\n",
              " 0.4,\n",
              " 0.4,\n",
              " 0.4,\n",
              " 0.4,\n",
              " 0.4,\n",
              " 0.4,\n",
              " 0.4,\n",
              " 0.4,\n",
              " 0.4,\n",
              " 0.4,\n",
              " 0.4,\n",
              " 0.4,\n",
              " 0.4,\n",
              " 0.4,\n",
              " 0.4,\n",
              " 0.4,\n",
              " 0.4,\n",
              " 0.4,\n",
              " 0.4,\n",
              " 0.4,\n",
              " 0.4,\n",
              " 0.4,\n",
              " 0.4,\n",
              " 0.4,\n",
              " 0.4,\n",
              " 0.4,\n",
              " 0.4,\n",
              " 0.4,\n",
              " 0.4,\n",
              " 0.4,\n",
              " 0.4,\n",
              " 0.4,\n",
              " 0.4,\n",
              " 0.4,\n",
              " 0.4,\n",
              " 0.4,\n",
              " 0.4,\n",
              " 0.4,\n",
              " 0.4,\n",
              " 0.4,\n",
              " 0.4,\n",
              " 0.4,\n",
              " 0.4,\n",
              " 0.4,\n",
              " 0.4,\n",
              " 0.4,\n",
              " 0.4,\n",
              " 0.4,\n",
              " 0.4,\n",
              " 0.4,\n",
              " 0.4,\n",
              " 0.4,\n",
              " 0.4,\n",
              " 0.4,\n",
              " 0.4,\n",
              " 0.4,\n",
              " 0.4,\n",
              " 0.4,\n",
              " 0.4,\n",
              " 0.4,\n",
              " 0.4,\n",
              " 0.4,\n",
              " 0.4,\n",
              " 0.4,\n",
              " 0.4,\n",
              " 0.4,\n",
              " 0.4,\n",
              " 0.4,\n",
              " 0.4,\n",
              " 0.4,\n",
              " 0.4,\n",
              " 0.36734693877551017,\n",
              " 0.36734693877551017,\n",
              " 0.36734693877551017,\n",
              " 0.36734693877551017,\n",
              " 0.36734693877551017,\n",
              " 0.36734693877551017,\n",
              " 0.36734693877551017,\n",
              " 0.36734693877551017,\n",
              " 0.36734693877551017,\n",
              " 0.36734693877551017,\n",
              " 0.36734693877551017,\n",
              " 0.36734693877551017,\n",
              " 0.36734693877551017,\n",
              " 0.36734693877551017,\n",
              " 0.36734693877551017,\n",
              " 0.33333333333333337,\n",
              " 0.33333333333333337,\n",
              " 0.33333333333333337,\n",
              " 0.33333333333333337,\n",
              " 0.33333333333333337,\n",
              " 0.33333333333333337,\n",
              " 0.33333333333333337,\n",
              " 0.33333333333333337,\n",
              " 0.33333333333333337,\n",
              " 0.33333333333333337,\n",
              " 0.33333333333333337,\n",
              " 0.33333333333333337,\n",
              " 0.33333333333333337,\n",
              " 0.33333333333333337,\n",
              " 0.33333333333333337,\n",
              " 0.33333333333333337,\n",
              " 0.33333333333333337,\n",
              " 0.33333333333333337,\n",
              " 0.33333333333333337,\n",
              " 0.33333333333333337,\n",
              " 0.33333333333333337,\n",
              " 0.33333333333333337,\n",
              " 0.33333333333333337,\n",
              " 0.2978723404255319,\n",
              " 0.2978723404255319,\n",
              " 0.2978723404255319,\n",
              " 0.2978723404255319,\n",
              " 0.2978723404255319,\n",
              " 0.2978723404255319,\n",
              " 0.2978723404255319,\n",
              " 0.2978723404255319,\n",
              " 0.2978723404255319,\n",
              " 0.2978723404255319,\n",
              " 0.2978723404255319,\n",
              " 0.2608695652173913,\n",
              " 0.2608695652173913,\n",
              " 0.2608695652173913,\n",
              " 0.2608695652173913,\n",
              " 0.2608695652173913,\n",
              " 0.2608695652173913,\n",
              " 0.2608695652173913,\n",
              " 0.2608695652173913,\n",
              " 0.2222222222222222,\n",
              " 0.2222222222222222,\n",
              " 0.2222222222222222,\n",
              " 0.2222222222222222,\n",
              " 0.2222222222222222,\n",
              " 0.2222222222222222,\n",
              " 0.2222222222222222,\n",
              " 0.2222222222222222,\n",
              " 0.2222222222222222,\n",
              " 0.2222222222222222,\n",
              " 0.2222222222222222,\n",
              " 0.2222222222222222,\n",
              " 0.18181818181818182,\n",
              " 0.18181818181818182,\n",
              " 0.18181818181818182,\n",
              " 0.18181818181818182,\n",
              " 0.18181818181818182,\n",
              " 0.18181818181818182,\n",
              " 0.18181818181818182,\n",
              " 0.18181818181818182,\n",
              " 0.18181818181818182,\n",
              " 0.18181818181818182,\n",
              " 0.18181818181818182,\n",
              " 0.18181818181818182,\n",
              " 0.18181818181818182,\n",
              " 0.18181818181818182,\n",
              " 0.18181818181818182,\n",
              " 0.18181818181818182,\n",
              " 0.18181818181818182,\n",
              " 0.18181818181818182,\n",
              " 0.18181818181818182,\n",
              " 0.18181818181818182,\n",
              " 0.18181818181818182,\n",
              " 0.13953488372093023,\n",
              " 0.13953488372093023,\n",
              " 0.13953488372093023,\n",
              " 0.13953488372093023,\n",
              " 0.13953488372093023,\n",
              " 0.13953488372093023,\n",
              " 0.13953488372093023,\n",
              " 0.09523809523809523,\n",
              " 0.09523809523809523,\n",
              " 0.09523809523809523,\n",
              " 0.09523809523809523,\n",
              " 0.04878048780487806,\n",
              " 0.04878048780487806,\n",
              " 0.04878048780487806,\n",
              " 0.04878048780487806,\n",
              " 0.04878048780487806,\n",
              " 0.04878048780487806,\n",
              " 0.04878048780487806,\n",
              " 0.04878048780487806,\n",
              " 0.04878048780487806,\n",
              " 0.04878048780487806,\n",
              " 0.04878048780487806,\n",
              " 0.04878048780487806,\n",
              " 0.04878048780487806,\n",
              " 0.04878048780487806,\n",
              " 0.04878048780487806,\n",
              " 0.04878048780487806,\n",
              " 0.04878048780487806,\n",
              " 0.04878048780487806,\n",
              " 0.04878048780487806,\n",
              " 0.04878048780487806,\n",
              " 0.04878048780487806,\n",
              " 0.04878048780487806,\n",
              " 0.04878048780487806,\n",
              " 0.04878048780487806,\n",
              " 0.04878048780487806,\n",
              " 0.04878048780487806,\n",
              " 0.04878048780487806,\n",
              " 0.04878048780487806,\n",
              " 0.04878048780487806,\n",
              " 0.04878048780487806,\n",
              " 0.04878048780487806,\n",
              " 0.04878048780487806,\n",
              " 0.04878048780487806,\n",
              " 0.04878048780487806,\n",
              " 0.04878048780487806,\n",
              " 0.04878048780487806,\n",
              " 0.04878048780487806,\n",
              " 0.04878048780487806,\n",
              " 0.04878048780487806,\n",
              " 0.0,\n",
              " 0.0,\n",
              " 0.0,\n",
              " 0.0]"
            ]
          },
          "metadata": {},
          "execution_count": 335
        }
      ]
    },
    {
      "cell_type": "code",
      "source": [
        "# get best threshold\n",
        "ix = argmax(scores)\n",
        "print('Threshold=%.3f, F-Score=%.5f' % (thresholds[ix], scores[ix]))"
      ],
      "metadata": {
        "colab": {
          "base_uri": "https://localhost:8080/"
        },
        "id": "r3G23WdlxPps",
        "outputId": "df91c44c-cf6f-401c-fd78-2dd616d82ec1"
      },
      "execution_count": 336,
      "outputs": [
        {
          "output_type": "stream",
          "name": "stdout",
          "text": [
            "Threshold=0.349, F-Score=0.67606\n"
          ]
        }
      ]
    },
    {
      "cell_type": "code",
      "source": [
        "ix"
      ],
      "metadata": {
        "colab": {
          "base_uri": "https://localhost:8080/"
        },
        "id": "kPTZH9Gd0I-s",
        "outputId": "ad1858da-80fb-4f88-a866-8effe1072743"
      },
      "execution_count": 337,
      "outputs": [
        {
          "output_type": "execute_result",
          "data": {
            "text/plain": [
              "349"
            ]
          },
          "metadata": {},
          "execution_count": 337
        }
      ]
    },
    {
      "cell_type": "code",
      "source": [
        ""
      ],
      "metadata": {
        "id": "BUz_4RkY0G43"
      },
      "execution_count": 337,
      "outputs": []
    }
  ]
}